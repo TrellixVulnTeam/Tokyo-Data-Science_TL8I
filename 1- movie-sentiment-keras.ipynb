{
 "cells": [
  {
   "cell_type": "markdown",
   "metadata": {},
   "source": [
    "# This notebook is based on [dataset](https://www.kaggle.com/c/movie-review-sentiment-analysis-kernels-only/overview) by kaggle on Movie Review Sentiment Analysis from Rotten tomato. \n",
    "\n",
    "we are using keras and simple lstm model to train and validate model.\n",
    "\n",
    "Feel free to use more complex models or use some more advance methods and architectures to increase the accuracy.\n",
    "\n",
    "Here reviews are not full sentences but small phrases which makes this dataset quite interesting. "
   ]
  },
  {
   "cell_type": "code",
   "execution_count": 1,
   "metadata": {
    "_cell_guid": "b1076dfc-b9ad-4769-8c92-a6c4dae69d19",
    "_uuid": "8f2839f25d086af736a60e9eeb907d3b93b6e0e5"
   },
   "outputs": [
    {
     "name": "stdout",
     "output_type": "stream",
     "text": [
      "/kaggle/input/movie-review-sentiment-analysis-kernels-only/test.tsv.zip\n",
      "/kaggle/input/movie-review-sentiment-analysis-kernels-only/sampleSubmission.csv\n",
      "/kaggle/input/movie-review-sentiment-analysis-kernels-only/train.tsv.zip\n"
     ]
    }
   ],
   "source": [
    "# This Python 3 environment comes with many helpful analytics libraries installed\n",
    "# It is defined by the kaggle/python docker image: https://github.com/kaggle/docker-python\n",
    "# For example, here's several helpful packages to load in \n",
    "\n",
    "import numpy as np # linear algebra\n",
    "import pandas as pd # data processing, CSV file I/O (e.g. pd.read_csv)\n",
    "\n",
    "# Input data files are available in the \"../input/\" directory.\n",
    "# For example, running this (by clicking run or pressing Shift+Enter) will list all files under the input directory\n",
    "\n",
    "import os\n",
    "for dirname, _, filenames in os.walk('/kaggle/input'):\n",
    "    for filename in filenames:\n",
    "        print(os.path.join(dirname, filename))\n",
    "\n",
    "# Any results you write to the current directory are saved as output."
   ]
  },
  {
   "cell_type": "code",
   "execution_count": 2,
   "metadata": {},
   "outputs": [
    {
     "name": "stderr",
     "output_type": "stream",
     "text": [
      "Using TensorFlow backend.\n"
     ]
    }
   ],
   "source": [
    "import matplotlib.pyplot as plt\n",
    "from keras.preprocessing.text import Tokenizer\n",
    "from sklearn.model_selection import train_test_split\n",
    "from keras.preprocessing import sequence\n",
    "from keras.utils import to_categorical\n",
    "from keras.models import Sequential\n",
    "from keras.layers import Dense,LSTM,Dropout,Embedding\n",
    "from keras.callbacks import ModelCheckpoint,ReduceLROnPlateau,EarlyStopping\n",
    "from keras.optimizers import Adam"
   ]
  },
  {
   "cell_type": "code",
   "execution_count": 3,
   "metadata": {},
   "outputs": [],
   "source": [
    "#to print very long sentences in pandas df\n",
    "pd.set_option('display.max_colwidth', -1)"
   ]
  },
  {
   "cell_type": "code",
   "execution_count": 4,
   "metadata": {},
   "outputs": [
    {
     "name": "stdout",
     "output_type": "stream",
     "text": [
      "Archive:  ../input/movie-review-sentiment-analysis-kernels-only/test.tsv.zip\n",
      "  inflating: test.tsv                \n",
      "Archive:  ../input/movie-review-sentiment-analysis-kernels-only/train.tsv.zip\n",
      "  inflating: train.tsv               \n"
     ]
    }
   ],
   "source": [
    "!unzip  ../input/movie-review-sentiment-analysis-kernels-only/test.tsv.zip\n",
    "!unzip  ../input/movie-review-sentiment-analysis-kernels-only/train.tsv.zip"
   ]
  },
  {
   "cell_type": "code",
   "execution_count": 5,
   "metadata": {},
   "outputs": [
    {
     "name": "stdout",
     "output_type": "stream",
     "text": [
      "__notebook__.ipynb  __output__.json  test.tsv  train.tsv\n"
     ]
    }
   ],
   "source": [
    "!ls /kaggle/working"
   ]
  },
  {
   "cell_type": "code",
   "execution_count": 6,
   "metadata": {},
   "outputs": [],
   "source": [
    "train = pd.read_csv('/kaggle/working/train.tsv',sep = '\\t')\n",
    "test = pd.read_csv('/kaggle/working/test.tsv',sep = '\\t')"
   ]
  },
  {
   "cell_type": "code",
   "execution_count": 7,
   "metadata": {},
   "outputs": [],
   "source": [
    "sample_submsission =  pd.read_csv('/kaggle/input/movie-review-sentiment-analysis-kernels-only/sampleSubmission.csv')"
   ]
  },
  {
   "cell_type": "code",
   "execution_count": 8,
   "metadata": {},
   "outputs": [
    {
     "data": {},
     "execution_count": 8,
     "metadata": {},
     "output_type": "execute_result"
    }
   ],
   "source": [
    "train.head()"
   ]
  },
  {
   "cell_type": "code",
   "execution_count": 9,
   "metadata": {},
   "outputs": [
    {
     "name": "stdout",
     "output_type": "stream",
     "text": [
      "Total number of original reviews are: 8529\n"
     ]
    }
   ],
   "source": [
    "print('Total number of original reviews are:', len(pd.unique(train['SentenceId'])))"
   ]
  },
  {
   "cell_type": "code",
   "execution_count": 10,
   "metadata": {},
   "outputs": [
    {
     "data": {},
     "execution_count": 10,
     "metadata": {},
     "output_type": "execute_result"
    }
   ],
   "source": [
    "train.shape, test.shape"
   ]
  },
  {
   "cell_type": "code",
   "execution_count": 11,
   "metadata": {},
   "outputs": [
    {
     "name": "stdout",
     "output_type": "stream",
     "text": [
      "to congratulate himself for having the guts to confront it\n",
      "4\n",
      "The Bourne Identity should n't be half as entertaining as it is , but\n",
      "3\n",
      "the larger socio-political picture\n",
      "2\n",
      "humor and poignancy\n",
      "3\n",
      "people who owe\n",
      "2\n"
     ]
    }
   ],
   "source": [
    "#let's check some random reviews\n",
    "indices = np.random.randint(0,train.shape[0],5)\n",
    "for index in indices:\n",
    "    print(train['Phrase'][index])\n",
    "    print(train['Sentiment'][index])"
   ]
  },
  {
   "cell_type": "code",
   "execution_count": 12,
   "metadata": {},
   "outputs": [],
   "source": [
    "#These reviews are break down in small phrases "
   ]
  },
  {
   "cell_type": "code",
   "execution_count": 13,
   "metadata": {},
   "outputs": [
    {
     "data": {},
     "execution_count": 13,
     "metadata": {},
     "output_type": "execute_result"
    }
   ],
   "source": [
    "#let's check some review by id\n",
    "train[train['SentenceId']==10]"
   ]
  },
  {
   "cell_type": "code",
   "execution_count": 14,
   "metadata": {},
   "outputs": [
    {
     "data": {},
     "execution_count": 14,
     "metadata": {},
     "output_type": "execute_result"
    }
   ],
   "source": [
    "train[train['SentenceId']==187]"
   ]
  },
  {
   "cell_type": "code",
   "execution_count": 15,
   "metadata": {},
   "outputs": [
    {
     "name": "stdout",
     "output_type": "stream",
     "text": [
      "Average phrases per sentence in Train Data are: 18\n",
      "Average phrases per sentence in Test Data are: 20\n"
     ]
    }
   ],
   "source": [
    "print('Average phrases per sentence in Train Data are: {:.0f}' .format(train.groupby(['SentenceId'])['Phrase'].count().mean()))\n",
    "print('Average phrases per sentence in Test Data are: {:.0f}' .format(test.groupby(['SentenceId'])['Phrase'].count().mean()))"
   ]
  },
  {
   "cell_type": "code",
   "execution_count": 16,
   "metadata": {},
   "outputs": [
    {
     "name": "stdout",
     "output_type": "stream",
     "text": [
      "Total phrases in Train Data is 156060 and total sentences are 8529\n",
      "Total phrases in Test Data is 66292 and total sentences are 3310\n"
     ]
    }
   ],
   "source": [
    "print('Total phrases in Train Data is {} and total sentences are {}' .format(train.shape[0],len(pd.unique(train['SentenceId']))))\n",
    "print('Total phrases in Test Data is {} and total sentences are {}' .format(test.shape[0],len(pd.unique(test['SentenceId']))))"
   ]
  },
  {
   "cell_type": "code",
   "execution_count": 17,
   "metadata": {},
   "outputs": [
    {
     "name": "stdout",
     "output_type": "stream",
     "text": [
      "Average words in phrases in Train Data is 7.203364\n",
      "Average words in phrases in Test Data is 6.678589\n"
     ]
    }
   ],
   "source": [
    "print('Average words in phrases in Train Data is {:f}' .format(train['Phrase'].apply(lambda x: len(x.split())).mean()))\n",
    "print('Average words in phrases in Test Data is {:f}' .format(test['Phrase'].apply(lambda x: len(x.split())).mean()))"
   ]
  },
  {
   "cell_type": "code",
   "execution_count": 18,
   "metadata": {},
   "outputs": [
    {
     "name": "stdout",
     "output_type": "stream",
     "text": [
      "Maximum words in phrases in Train Data is 52.000000\n",
      "Maximum words in phrases in Test Data is 56.000000\n"
     ]
    }
   ],
   "source": [
    "print('Maximum words in phrases in Train Data is {:f}' .format(train['Phrase'].apply(lambda x: len(x.split())).max()))\n",
    "print('Maximum words in phrases in Test Data is {:f}' .format(test['Phrase'].apply(lambda x: len(x.split())).max()))"
   ]
  },
  {
   "cell_type": "code",
   "execution_count": 19,
   "metadata": {},
   "outputs": [
    {
     "name": "stdout",
     "output_type": "stream",
     "text": [
      "Minimum words in phrases in Train Data is 0.000000\n",
      "Minimum words in phrases in Test Data is 0.000000\n"
     ]
    }
   ],
   "source": [
    "print('Minimum words in phrases in Train Data is {:f}' .format(train['Phrase'].apply(lambda x: len(x.split())).min()))\n",
    "print('Minimum words in phrases in Test Data is {:f}' .format(test['Phrase'].apply(lambda x: len(x.split())).min()))"
   ]
  },
  {
   "cell_type": "markdown",
   "metadata": {},
   "source": [
    "There is some empty data. "
   ]
  },
  {
   "cell_type": "code",
   "execution_count": 20,
   "metadata": {},
   "outputs": [
    {
     "name": "stdout",
     "output_type": "stream",
     "text": [
      "1\n"
     ]
    }
   ],
   "source": [
    "#removing empty data from train data\n",
    "to_remove = []\n",
    "for i,row in train.iterrows():\n",
    "    if(len(row['Phrase'].split())== 0):\n",
    "        to_remove.append(i)\n",
    "print(len(to_remove))\n",
    "train.drop(to_remove,inplace = True)"
   ]
  },
  {
   "cell_type": "code",
   "execution_count": 21,
   "metadata": {},
   "outputs": [
    {
     "name": "stdout",
     "output_type": "stream",
     "text": [
      "Minimum words in phrases in Train Data is 1.000000\n"
     ]
    }
   ],
   "source": [
    "#checking again minimun length of phrase\n",
    "print('Minimum words in phrases in Train Data is {:f}' .format(train['Phrase'].apply(lambda x: len(x.split())).min()))"
   ]
  },
  {
   "cell_type": "code",
   "execution_count": 22,
   "metadata": {},
   "outputs": [
    {
     "data": {
      "image/png": "[encoded data removed]"
     },
     "metadata": {
      "needs_background": "light"
     },
     "output_type": "display_data"
    }
   ],
   "source": [
    "#let's plot number of reviews\n",
    "plt.figure(figsize = (12,10))\n",
    "train['Sentiment'].value_counts().sort_index().plot(kind = 'bar')\n",
    "plt.xlabel('Review')\n",
    "plt.ylabel('Count')\n",
    "plt.show()"
   ]
  },
  {
   "cell_type": "markdown",
   "metadata": {},
   "source": [
    "As expected most of the reviews are neutral as most of the sentences are small phrases."
   ]
  },
  {
   "cell_type": "markdown",
   "metadata": {},
   "source": [
    "## EDA on words and Preparing dataset for sequence models."
   ]
  },
  {
   "cell_type": "code",
   "execution_count": 23,
   "metadata": {},
   "outputs": [],
   "source": [
    "tokenizer = Tokenizer()"
   ]
  },
  {
   "cell_type": "code",
   "execution_count": 24,
   "metadata": {},
   "outputs": [],
   "source": [
    "full_text = list(test['Phrase'].values) + list(train['Phrase'].values)"
   ]
  },
  {
   "cell_type": "code",
   "execution_count": 25,
   "metadata": {},
   "outputs": [],
   "source": [
    "tokenizer.fit_on_texts(full_text)"
   ]
  },
  {
   "cell_type": "code",
   "execution_count": 26,
   "metadata": {},
   "outputs": [
    {
     "name": "stdout",
     "output_type": "stream",
     "text": [
      "an 8950\n",
      "intermittently 62\n",
      "pleasing 100\n",
      "but 7127\n",
      "mostly 311\n",
      "routine 168\n",
      "effort 414\n",
      "kidman 33\n",
      "is 18798\n",
      "really 1221\n",
      "the 71814\n"
     ]
    }
   ],
   "source": [
    "#let's print some word counts\n",
    "i = 0\n",
    "for k,v in dict(tokenizer.word_counts).items():\n",
    "    print(k,v)\n",
    "    if i== 10:\n",
    "        break\n",
    "    i+=1"
   ]
  },
  {
   "cell_type": "code",
   "execution_count": 27,
   "metadata": {},
   "outputs": [
    {
     "name": "stdout",
     "output_type": "stream",
     "text": [
      "222351\n"
     ]
    }
   ],
   "source": [
    "#total phrases\n",
    "print(tokenizer.document_count)"
   ]
  },
  {
   "cell_type": "code",
   "execution_count": 28,
   "metadata": {},
   "outputs": [
    {
     "name": "stdout",
     "output_type": "stream",
     "text": [
      "the 1\n",
      "a 2\n",
      "of 3\n",
      "and 4\n",
      "to 5\n",
      "'s 6\n",
      "in 7\n",
      "is 8\n",
      "that 9\n",
      "it 10\n",
      "as 11\n"
     ]
    }
   ],
   "source": [
    "#word index for one hot encoding\n",
    "#let's print some\n",
    "i = 0\n",
    "for k,v in tokenizer.word_index.items():\n",
    "    print(k,v)\n",
    "    if i== 10:\n",
    "        break\n",
    "    i+=1"
   ]
  },
  {
   "cell_type": "code",
   "execution_count": 29,
   "metadata": {},
   "outputs": [
    {
     "name": "stdout",
     "output_type": "stream",
     "text": [
      "Total number of unique words in all of data : 17780\n"
     ]
    }
   ],
   "source": [
    "print('Total number of unique words in all of data : {}'.format( max(tokenizer.word_index.values())))"
   ]
  },
  {
   "cell_type": "code",
   "execution_count": 30,
   "metadata": {},
   "outputs": [
    {
     "name": "stdout",
     "output_type": "stream",
     "text": [
      "Most used words are:\n"
     ]
    },
    {
     "data": {},
     "execution_count": 30,
     "metadata": {},
     "output_type": "execute_result"
    }
   ],
   "source": [
    "Most_used_words = dict(tokenizer.word_counts)\n",
    "print('Most used words are:')\n",
    "sorted(Most_used_words.items() ,key =lambda x:x[1], reverse = True)[:10]"
   ]
  },
  {
   "cell_type": "code",
   "execution_count": 31,
   "metadata": {},
   "outputs": [],
   "source": [
    "#dividing train data in training and validation data\n",
    "X_train, X_valid, y_train, y_valid = train_test_split(train['Phrase'],train['Sentiment'],test_size = .1)"
   ]
  },
  {
   "cell_type": "code",
   "execution_count": 32,
   "metadata": {},
   "outputs": [
    {
     "name": "stdout",
     "output_type": "stream",
     "text": [
      "(140453,) (140453,)\n",
      "(15606,) (15606,)\n"
     ]
    }
   ],
   "source": [
    "print(X_train.shape,y_train.shape)\n",
    "print(X_valid.shape,y_valid.shape)"
   ]
  },
  {
   "cell_type": "code",
   "execution_count": 33,
   "metadata": {},
   "outputs": [],
   "source": [
    "X_train = tokenizer.texts_to_sequences(X_train)\n",
    "X_valid = tokenizer.texts_to_sequences(X_valid)\n",
    "X_test = tokenizer.texts_to_sequences(test['Phrase'])"
   ]
  },
  {
   "cell_type": "code",
   "execution_count": 34,
   "metadata": {},
   "outputs": [
    {
     "name": "stdout",
     "output_type": "stream",
     "text": [
      "[18, 8, 24, 63, 2, 17, 102, 62, 394, 11, 1352, 1840]\n"
     ]
    }
   ],
   "source": [
    "#example\n",
    "print(X_train[0])"
   ]
  },
  {
   "cell_type": "markdown",
   "metadata": {},
   "source": [
    "In order to the input to rnn/lstm we need data of constant length. we can cut down some big sentences and pad down small sentences."
   ]
  },
  {
   "cell_type": "code",
   "execution_count": 35,
   "metadata": {},
   "outputs": [
    {
     "name": "stdout",
     "output_type": "stream",
     "text": [
      "(140453, 40) (15606, 40) (66292, 40)\n"
     ]
    }
   ],
   "source": [
    "#let's use maximum sequence length of 40\n",
    "max_len = 40\n",
    "#using default pre padding. if phrase length is more than 40, it is truncated from starting.\n",
    "X_train = sequence.pad_sequences(X_train, maxlen=max_len)\n",
    "X_valid = sequence.pad_sequences(X_valid, maxlen=max_len)\n",
    "X_test = sequence.pad_sequences(X_test, maxlen=max_len)\n",
    "print(X_train.shape,X_valid.shape,X_test.shape)"
   ]
  },
  {
   "cell_type": "code",
   "execution_count": 36,
   "metadata": {},
   "outputs": [
    {
     "name": "stdout",
     "output_type": "stream",
     "text": [
      "(140453, 5) (15606, 5)\n"
     ]
    }
   ],
   "source": [
    "y_train = to_categorical(y_train)\n",
    "y_valid = to_categorical(y_valid)\n",
    "print(y_train.shape,y_valid.shape)\n"
   ]
  },
  {
   "cell_type": "markdown",
   "metadata": {},
   "source": [
    "## Building and Training Model"
   ]
  },
  {
   "cell_type": "code",
   "execution_count": 37,
   "metadata": {},
   "outputs": [],
   "source": [
    "max_features = 17780 #using all unique words\n",
    "embedding_dim = 150\n",
    "num_classes = 5\n",
    "batch_size = 64"
   ]
  },
  {
   "cell_type": "code",
   "execution_count": 38,
   "metadata": {},
   "outputs": [],
   "source": [
    "#callbacks\n",
    "es = EarlyStopping(monitor='val_loss', mode='min', verbose=1, patience=10)\n",
    "reduce_lr =  ReduceLROnPlateau(monitor='val_loss',verbose=1, factor=.1,patience=5)\n",
    "checkpointer = ModelCheckpoint('model.hdf5', monitor='val_loss', verbose=1, save_best_only=True)"
   ]
  },
  {
   "cell_type": "code",
   "execution_count": 39,
   "metadata": {},
   "outputs": [
    {
     "name": "stdout",
     "output_type": "stream",
     "text": [
      "Model: \"sequential_1\"\n",
      "_________________________________________________________________\n",
      "Layer (type)                 Output Shape              Param #   \n",
      "=================================================================\n",
      "embedding_1 (Embedding)      (None, 40, 150)           2667150   \n",
      "_________________________________________________________________\n",
      "lstm_1 (LSTM)                (None, 40, 100)           100400    \n",
      "_________________________________________________________________\n",
      "lstm_2 (LSTM)                (None, 64)                42240     \n",
      "_________________________________________________________________\n",
      "dense_1 (Dense)              (None, 5)                 325       \n",
      "=================================================================\n",
      "Total params: 2,810,115\n",
      "Trainable params: 2,810,115\n",
      "Non-trainable params: 0\n",
      "_________________________________________________________________\n"
     ]
    }
   ],
   "source": [
    "model = Sequential()\n",
    "model.add(Embedding(max_features + 1, embedding_dim, input_length= max_len, mask_zero = True))        #input dim is max_features + 1 because 0 index is used in padding.\n",
    "model.add(LSTM(100,dropout=0.6, recurrent_dropout=0.5,return_sequences=True))                         #returning full sequence for next layer, also using recurrent output\n",
    "model.add(LSTM(64,dropout=0.6, recurrent_dropout=0.5,return_sequences=False))                         #returning only last output.  \n",
    "model.add(Dense(num_classes,activation='softmax'))                                                    #final output\n",
    "\n",
    "model.compile(loss='categorical_crossentropy',optimizer=Adam(lr=0.01),metrics=['accuracy'])\n",
    "model.summary()"
   ]
  },
  {
   "cell_type": "code",
   "execution_count": 40,
   "metadata": {},
   "outputs": [
    {
     "name": "stderr",
     "output_type": "stream",
     "text": [
      "/opt/conda/lib/python3.6/site-packages/tensorflow_core/python/framework/indexed_slices.py:433: UserWarning: Converting sparse IndexedSlices to a dense Tensor of unknown shape. This may consume a large amount of memory.\n",
      "  \"Converting sparse IndexedSlices to a dense Tensor of unknown shape. \"\n"
     ]
    },
    {
     "name": "stdout",
     "output_type": "stream",
     "text": [
      "Train on 140453 samples, validate on 15606 samples\n",
      "Epoch 1/50\n",
      "140453/140453 [==============================] - 253s 2ms/step - loss: 1.0050 - accuracy: 0.5939 - val_loss: 0.9038 - val_accuracy: 0.6279\n",
      "\n",
      "Epoch 00001: val_loss improved from inf to 0.90380, saving model to model.hdf5\n",
      "Epoch 2/50\n",
      "140453/140453 [==============================] - 250s 2ms/step - loss: 0.9134 - accuracy: 0.6273 - val_loss: 0.9114 - val_accuracy: 0.6281\n",
      "\n",
      "Epoch 00002: val_loss did not improve from 0.90380\n",
      "Epoch 3/50\n",
      "140453/140453 [==============================] - 247s 2ms/step - loss: 0.9002 - accuracy: 0.6323 - val_loss: 0.9053 - val_accuracy: 0.6314\n",
      "\n",
      "Epoch 00003: val_loss did not improve from 0.90380\n",
      "Epoch 4/50\n",
      "140453/140453 [==============================] - 247s 2ms/step - loss: 0.8982 - accuracy: 0.6317 - val_loss: 0.9069 - val_accuracy: 0.6272\n",
      "\n",
      "Epoch 00004: val_loss did not improve from 0.90380\n",
      "Epoch 5/50\n",
      "140453/140453 [==============================] - 244s 2ms/step - loss: 0.8967 - accuracy: 0.6340 - val_loss: 0.8983 - val_accuracy: 0.6321\n",
      "\n",
      "Epoch 00005: val_loss improved from 0.90380 to 0.89831, saving model to model.hdf5\n",
      "Epoch 6/50\n",
      "140453/140453 [==============================] - 246s 2ms/step - loss: 0.8947 - accuracy: 0.6336 - val_loss: 0.9036 - val_accuracy: 0.6282\n",
      "\n",
      "Epoch 00006: val_loss did not improve from 0.89831\n",
      "Epoch 7/50\n",
      "140453/140453 [==============================] - 248s 2ms/step - loss: 0.8631 - accuracy: 0.6472 - val_loss: 0.8883 - val_accuracy: 0.6339\n",
      "\n",
      "Epoch 00018: val_loss improved from 0.89101 to 0.88829, saving model to model.hdf5\n",
      "Epoch 19/50\n",
      "140453/140453 [==============================] - 260s 2ms/step - loss: 0.8433 - accuracy: 0.6559 - val_loss: 0.8833 - val_accuracy: 0.6348\n",
      "\n",
      "Epoch 00030: val_loss did not improve from 0.88147\n",
      "Epoch 31/50\n",
      "140453/140453 [==============================] - 257s 2ms/step - loss: 0.8273 - accuracy: 0.6626 - val_loss: 0.8741 - val_accuracy: 0.6401\n",
      "\n",
      "Epoch 00042: val_loss improved from 0.87431 to 0.87411, saving model to model.hdf5\n",
      "Epoch 43/50\n",
      "140453/140453 [==============================] - 261s 2ms/step - loss: 0.8216 - accuracy: 0.6648 - val_loss: 0.8704 - val_accuracy: 0.6414\n",
      "\n",
      "Epoch 00049: val_loss did not improve from 0.87034\n",
      "Epoch 50/50\n",
      "121088/140453 [========================>.....] - ETA: 35s - loss: 0.8192 - accuracy: 0.6663"
     ]
    }
   ],
   "source": [
    "model.fit(X_train, y_train, validation_data=(X_valid, y_valid),epochs=50, batch_size=batch_size, verbose=1,callbacks = [es,reduce_lr,checkpointer])"
   ]
  },
  {
   "cell_type": "code",
   "execution_count": 41,
   "metadata": {},
   "outputs": [
    {
     "data": {
      "image/png": "[encoded data removed]"
     },
     "metadata": {
      "needs_background": "light"
     },
     "output_type": "display_data"
    }
   ],
   "source": [
    "#let's plot losses\n",
    "\n",
    "history = model.history.history\n",
    "# list all data in history\n",
    "#print(history.keys())\n",
    "# summarize history for accuracy\n",
    "plt.plot(history['loss'])\n",
    "plt.plot(history['val_loss'])\n",
    "\n",
    "ticks = list(range(len(history['loss'])+1)) # we need integers in x axis (epochs)\n",
    "plt.xticks(ticks)\n",
    "\n",
    "plt.title('model loss')\n",
    "plt.ylabel('loss')\n",
    "plt.xlabel('epoch')\n",
    "plt.legend(['train', 'test'], loc='upper right')\n",
    "plt.show()"
   ]
  },
  {
   "cell_type": "markdown",
   "metadata": {},
   "source": [
    "## Testing  Model"
   ]
  },
  {
   "cell_type": "code",
   "execution_count": 42,
   "metadata": {},
   "outputs": [],
   "source": [
    "#loading the best weights\n",
    "model.load_weights('model.hdf5')"
   ]
  },
  {
   "cell_type": "code",
   "execution_count": 43,
   "metadata": {},
   "outputs": [],
   "source": [
    "predictions = model.predict(X_test)"
   ]
  },
  {
   "cell_type": "code",
   "execution_count": 44,
   "metadata": {},
   "outputs": [
    {
     "data": {},
     "execution_count": 44,
     "metadata": {},
     "output_type": "execute_result"
    }
   ],
   "source": [
    "y_test = predictions.argmax(axis = 1) \n",
    "y_test.shape"
   ]
  },
  {
   "cell_type": "code",
   "execution_count": 45,
   "metadata": {},
   "outputs": [],
   "source": [
    "sample_submsission.Sentiment = y_test"
   ]
  },
  {
   "cell_type": "code",
   "execution_count": 46,
   "metadata": {},
   "outputs": [],
   "source": [
    "sample_submsission.to_csv('submission.csv',index=False)"
   ]
  },
  {
   "cell_type": "markdown",
   "metadata": {},
   "source": [
    "**we get accuracy of 62.14% on test data, which is quite good.** "
   ]
  },
  {
   "cell_type": "code",
   "execution_count": null,
   "metadata": {},
   "outputs": [],
   "source": []
  }
 ],
 "metadata": {
  "kernelspec": {
   "display_name": "Python 3",
   "language": "python",
   "name": "python3"
  },
  "language_info": {
   "codemirror_mode": {
    "name": "ipython",
    "version": 3
   },
   "file_extension": ".py",
   "mimetype": "text/x-python",
   "name": "python",
   "nbconvert_exporter": "python",
   "pygments_lexer": "ipython3",
   "version": "3.7.3"
  }
 },
 "nbformat": 4,
 "nbformat_minor": 2
}
